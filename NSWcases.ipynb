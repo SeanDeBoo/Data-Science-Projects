{
 "cells": [
  {
   "cell_type": "code",
   "execution_count": 1,
   "id": "cb0e5cac",
   "metadata": {},
   "outputs": [],
   "source": [
    "import pandas as pd\n",
    "from matplotlib import pyplot as plt\n",
    "\n",
    "\n",
    "df = pd.read_csv('https://data.nsw.gov.au/data/dataset/3dc5dc39-40b4-4ee9-8ec6-2d862a916dcf/resource/24b34cb5-8b01-4008-9d93-d14cf5518aec/download/confirmed_cases_table2_age_group.csv')\n"
   ]
  },
  {
   "cell_type": "code",
   "execution_count": 2,
   "id": "b72e253c",
   "metadata": {},
   "outputs": [
    {
     "data": {
      "text/html": [
       "<div>\n",
       "<style scoped>\n",
       "    .dataframe tbody tr th:only-of-type {\n",
       "        vertical-align: middle;\n",
       "    }\n",
       "\n",
       "    .dataframe tbody tr th {\n",
       "        vertical-align: top;\n",
       "    }\n",
       "\n",
       "    .dataframe thead th {\n",
       "        text-align: right;\n",
       "    }\n",
       "</style>\n",
       "<table border=\"1\" class=\"dataframe\">\n",
       "  <thead>\n",
       "    <tr style=\"text-align: right;\">\n",
       "      <th></th>\n",
       "      <th>notification_date</th>\n",
       "      <th>age_group</th>\n",
       "    </tr>\n",
       "  </thead>\n",
       "  <tbody>\n",
       "    <tr>\n",
       "      <th>0</th>\n",
       "      <td>2021-06-29</td>\n",
       "      <td>AgeGroup_0-19</td>\n",
       "    </tr>\n",
       "    <tr>\n",
       "      <th>1</th>\n",
       "      <td>2021-06-29</td>\n",
       "      <td>AgeGroup_0-19</td>\n",
       "    </tr>\n",
       "    <tr>\n",
       "      <th>2</th>\n",
       "      <td>2021-06-29</td>\n",
       "      <td>AgeGroup_0-19</td>\n",
       "    </tr>\n",
       "    <tr>\n",
       "      <th>3</th>\n",
       "      <td>2021-06-29</td>\n",
       "      <td>AgeGroup_20-24</td>\n",
       "    </tr>\n",
       "    <tr>\n",
       "      <th>4</th>\n",
       "      <td>2021-06-29</td>\n",
       "      <td>AgeGroup_20-24</td>\n",
       "    </tr>\n",
       "  </tbody>\n",
       "</table>\n",
       "</div>"
      ],
      "text/plain": [
       "  notification_date       age_group\n",
       "0        2021-06-29   AgeGroup_0-19\n",
       "1        2021-06-29   AgeGroup_0-19\n",
       "2        2021-06-29   AgeGroup_0-19\n",
       "3        2021-06-29  AgeGroup_20-24\n",
       "4        2021-06-29  AgeGroup_20-24"
      ]
     },
     "execution_count": 2,
     "metadata": {},
     "output_type": "execute_result"
    }
   ],
   "source": [
    "df.notification_date = pd.to_datetime(df.notification_date, format='%Y-%m-%d')\n",
    "df.head()"
   ]
  },
  {
   "cell_type": "code",
   "execution_count": 3,
   "id": "2eb54d4b",
   "metadata": {},
   "outputs": [
    {
     "data": {
      "text/html": [
       "<div>\n",
       "<style scoped>\n",
       "    .dataframe tbody tr th:only-of-type {\n",
       "        vertical-align: middle;\n",
       "    }\n",
       "\n",
       "    .dataframe tbody tr th {\n",
       "        vertical-align: top;\n",
       "    }\n",
       "\n",
       "    .dataframe thead th {\n",
       "        text-align: right;\n",
       "    }\n",
       "</style>\n",
       "<table border=\"1\" class=\"dataframe\">\n",
       "  <thead>\n",
       "    <tr style=\"text-align: right;\">\n",
       "      <th></th>\n",
       "      <th>notification_date</th>\n",
       "      <th>age_group</th>\n",
       "    </tr>\n",
       "  </thead>\n",
       "  <tbody>\n",
       "    <tr>\n",
       "      <th>76183</th>\n",
       "      <td>2021-12-01</td>\n",
       "      <td>AgeGroup_20-24</td>\n",
       "    </tr>\n",
       "    <tr>\n",
       "      <th>76184</th>\n",
       "      <td>2021-12-01</td>\n",
       "      <td>AgeGroup_20-24</td>\n",
       "    </tr>\n",
       "    <tr>\n",
       "      <th>76185</th>\n",
       "      <td>2021-12-01</td>\n",
       "      <td>AgeGroup_20-24</td>\n",
       "    </tr>\n",
       "    <tr>\n",
       "      <th>76186</th>\n",
       "      <td>2021-12-01</td>\n",
       "      <td>AgeGroup_20-24</td>\n",
       "    </tr>\n",
       "    <tr>\n",
       "      <th>76187</th>\n",
       "      <td>2021-12-01</td>\n",
       "      <td>AgeGroup_20-24</td>\n",
       "    </tr>\n",
       "  </tbody>\n",
       "</table>\n",
       "</div>"
      ],
      "text/plain": [
       "      notification_date       age_group\n",
       "76183        2021-12-01  AgeGroup_20-24\n",
       "76184        2021-12-01  AgeGroup_20-24\n",
       "76185        2021-12-01  AgeGroup_20-24\n",
       "76186        2021-12-01  AgeGroup_20-24\n",
       "76187        2021-12-01  AgeGroup_20-24"
      ]
     },
     "execution_count": 3,
     "metadata": {},
     "output_type": "execute_result"
    }
   ],
   "source": [
    "dates = df[df.notification_date >= '2021-12-01']\n",
    "\n",
    "dates2 = dates[dates.age_group == 'AgeGroup_20-24']\n",
    "dates2.head()"
   ]
  },
  {
   "cell_type": "code",
   "execution_count": null,
   "id": "b06b47a8",
   "metadata": {},
   "outputs": [],
   "source": []
  },
  {
   "cell_type": "code",
   "execution_count": null,
   "id": "e52953d1",
   "metadata": {},
   "outputs": [],
   "source": [
    "len(df)"
   ]
  },
  {
   "cell_type": "code",
   "execution_count": null,
   "id": "ec9f9aad",
   "metadata": {},
   "outputs": [],
   "source": [
    "'2021-12-01'"
   ]
  },
  {
   "cell_type": "code",
   "execution_count": 4,
   "id": "737488f2",
   "metadata": {},
   "outputs": [
    {
     "ename": "SyntaxError",
     "evalue": "invalid syntax (<ipython-input-4-cbabdcccf840>, line 1)",
     "output_type": "error",
     "traceback": [
      "\u001b[1;36m  File \u001b[1;32m\"<ipython-input-4-cbabdcccf840>\"\u001b[1;36m, line \u001b[1;32m1\u001b[0m\n\u001b[1;33m    df.['AgeGroup_20-24']\u001b[0m\n\u001b[1;37m       ^\u001b[0m\n\u001b[1;31mSyntaxError\u001b[0m\u001b[1;31m:\u001b[0m invalid syntax\n"
     ]
    }
   ],
   "source": [
    "df.['AgeGroup_20-24']"
   ]
  },
  {
   "cell_type": "code",
   "execution_count": 5,
   "id": "0d44c3ed",
   "metadata": {},
   "outputs": [
    {
     "data": {
      "text/plain": [
       "159858"
      ]
     },
     "execution_count": 5,
     "metadata": {},
     "output_type": "execute_result"
    }
   ],
   "source": [
    "df[df.age_group == 'AgeGroup_20-24']\n",
    "len(df[df.age_group == 'AgeGroup_0-19'])"
   ]
  },
  {
   "cell_type": "code",
   "execution_count": 6,
   "id": "77d1821c",
   "metadata": {},
   "outputs": [
    {
     "data": {
      "text/plain": [
       "21577"
      ]
     },
     "execution_count": 6,
     "metadata": {},
     "output_type": "execute_result"
    }
   ],
   "source": [
    "len(df[df.notification_date == '2022-01-02'])"
   ]
  },
  {
   "cell_type": "code",
   "execution_count": 8,
   "id": "f48dbc76",
   "metadata": {},
   "outputs": [
    {
     "data": {
      "text/plain": [
       "Timestamp('2022-01-20 00:00:00')"
      ]
     },
     "execution_count": 8,
     "metadata": {},
     "output_type": "execute_result"
    }
   ],
   "source": [
    "max(df.notification_date)"
   ]
  },
  {
   "cell_type": "code",
   "execution_count": 9,
   "id": "7fa79855",
   "metadata": {},
   "outputs": [
    {
     "data": {
      "text/plain": [
       "pandas.core.series.Series"
      ]
     },
     "execution_count": 9,
     "metadata": {},
     "output_type": "execute_result"
    }
   ],
   "source": [
    "type(df.age_group)"
   ]
  },
  {
   "cell_type": "code",
   "execution_count": 18,
   "id": "2af269f7",
   "metadata": {},
   "outputs": [],
   "source": [
    "m = df.age_group"
   ]
  },
  {
   "cell_type": "code",
   "execution_count": 19,
   "id": "48e569fe",
   "metadata": {},
   "outputs": [
    {
     "data": {
      "text/plain": [
       "set"
      ]
     },
     "execution_count": 19,
     "metadata": {},
     "output_type": "execute_result"
    }
   ],
   "source": [
    "m = set(m)\n",
    "type(m)"
   ]
  },
  {
   "cell_type": "code",
   "execution_count": 20,
   "id": "078cc383",
   "metadata": {},
   "outputs": [
    {
     "data": {
      "text/plain": [
       "{'AgeGroup_0-19',\n",
       " 'AgeGroup_20-24',\n",
       " 'AgeGroup_25-29',\n",
       " 'AgeGroup_30-34',\n",
       " 'AgeGroup_35-39',\n",
       " 'AgeGroup_40-44',\n",
       " 'AgeGroup_45-49',\n",
       " 'AgeGroup_50-54',\n",
       " 'AgeGroup_55-59',\n",
       " 'AgeGroup_60-64',\n",
       " 'AgeGroup_65-69',\n",
       " 'AgeGroup_70+',\n",
       " 'AgeGroup_None'}"
      ]
     },
     "execution_count": 20,
     "metadata": {},
     "output_type": "execute_result"
    }
   ],
   "source": [
    "m\n"
   ]
  },
  {
   "cell_type": "code",
   "execution_count": 47,
   "id": "57b669b6",
   "metadata": {},
   "outputs": [],
   "source": [
    "d=df.notification_date\n",
    "d = set(d)"
   ]
  },
  {
   "cell_type": "code",
   "execution_count": 27,
   "id": "133112e7",
   "metadata": {},
   "outputs": [],
   "source": [
    "d=list(d)"
   ]
  },
  {
   "cell_type": "code",
   "execution_count": 43,
   "id": "baf436d5",
   "metadata": {},
   "outputs": [],
   "source": [
    "d=sorted(d)"
   ]
  },
  {
   "cell_type": "code",
   "execution_count": 46,
   "id": "7b5c1469",
   "metadata": {},
   "outputs": [
    {
     "data": {
      "text/plain": [
       "20012"
      ]
     },
     "execution_count": 46,
     "metadata": {},
     "output_type": "execute_result"
    }
   ],
   "source": [
    "len(df[df.notification_date == d[200]])"
   ]
  },
  {
   "cell_type": "code",
   "execution_count": null,
   "id": "a5c65852",
   "metadata": {},
   "outputs": [],
   "source": []
  },
  {
   "cell_type": "code",
   "execution_count": 44,
   "id": "83cab755",
   "metadata": {},
   "outputs": [
    {
     "data": {
      "text/plain": [
       "[Timestamp('2021-06-30 00:00:00'),\n",
       " Timestamp('2021-07-01 00:00:00'),\n",
       " Timestamp('2021-07-02 00:00:00'),\n",
       " Timestamp('2021-07-03 00:00:00'),\n",
       " Timestamp('2021-07-04 00:00:00'),\n",
       " Timestamp('2021-07-05 00:00:00'),\n",
       " Timestamp('2021-07-06 00:00:00'),\n",
       " Timestamp('2021-07-07 00:00:00'),\n",
       " Timestamp('2021-07-08 00:00:00'),\n",
       " Timestamp('2021-07-09 00:00:00'),\n",
       " Timestamp('2021-07-10 00:00:00'),\n",
       " Timestamp('2021-07-11 00:00:00')]"
      ]
     },
     "execution_count": 44,
     "metadata": {},
     "output_type": "execute_result"
    }
   ],
   "source": [
    "d[1:13]"
   ]
  },
  {
   "cell_type": "code",
   "execution_count": null,
   "id": "6c6a85ae",
   "metadata": {},
   "outputs": [],
   "source": []
  }
 ],
 "metadata": {
  "kernelspec": {
   "display_name": "Python 3",
   "language": "python",
   "name": "python3"
  },
  "language_info": {
   "codemirror_mode": {
    "name": "ipython",
    "version": 3
   },
   "file_extension": ".py",
   "mimetype": "text/x-python",
   "name": "python",
   "nbconvert_exporter": "python",
   "pygments_lexer": "ipython3",
   "version": "3.8.8"
  },
  "toc": {
   "base_numbering": 1,
   "nav_menu": {},
   "number_sections": true,
   "sideBar": true,
   "skip_h1_title": false,
   "title_cell": "Table of Contents",
   "title_sidebar": "Contents",
   "toc_cell": false,
   "toc_position": {},
   "toc_section_display": true,
   "toc_window_display": false
  },
  "varInspector": {
   "cols": {
    "lenName": 16,
    "lenType": 16,
    "lenVar": 40
   },
   "kernels_config": {
    "python": {
     "delete_cmd_postfix": "",
     "delete_cmd_prefix": "del ",
     "library": "var_list.py",
     "varRefreshCmd": "print(var_dic_list())"
    },
    "r": {
     "delete_cmd_postfix": ") ",
     "delete_cmd_prefix": "rm(",
     "library": "var_list.r",
     "varRefreshCmd": "cat(var_dic_list()) "
    }
   },
   "types_to_exclude": [
    "module",
    "function",
    "builtin_function_or_method",
    "instance",
    "_Feature"
   ],
   "window_display": false
  }
 },
 "nbformat": 4,
 "nbformat_minor": 5
}
